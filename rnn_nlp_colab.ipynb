{
  "nbformat": 4,
  "nbformat_minor": 0,
  "metadata": {
    "colab": {
      "name": "Copy of sample-fasam-dl-nlp.ipynb",
      "version": "0.3.2",
      "provenance": []
    },
    "kernelspec": {
      "display_name": "Python 3",
      "language": "python",
      "name": "python3"
    }
  },
  "cells": [
    {
      "metadata": {
        "id": "G3xR5sy5Q4ed",
        "colab_type": "text"
      },
      "cell_type": "markdown",
      "source": [
        "## Fasam - NLP Competition"
      ]
    },
    {
      "metadata": {
        "id": "aMNkmRspQ4ee",
        "colab_type": "text"
      },
      "cell_type": "markdown",
      "source": [
        "Meu notebook para a competição do **Kaggle da Fasam**. Faz parte da avaliação prática dos alunos da turma de Deep Learning da Faculdade Sul Americana\n",
        "\n",
        "### Acesso a competição\n",
        "\n",
        "Acesso a competição: https://www.kaggle.com/t/ea2dc714f47a41a3a8c0a099bf0e8362\n",
        "\n",
        "### Roteiro do Notebook\n",
        "\n",
        "* Leitura do Dataset\n",
        "* Criação do Modelo\n",
        "* Avaliação e Criação do arquivo de submission.csv\n",
        "\n",
        "### Problema\n",
        "\n",
        "\n",
        "Uma revista precisa catalogar todas as suas notícias em diferentes categorias. O objetivo desta competição é desenvolver o melhor modelo de aprendizagem profunda para prever a categoria de novas notícias.\n",
        "\n",
        "\n",
        "<img src=\"https://s3-ap-south-1.amazonaws.com/av-blog-media/wp-content/uploads/2018/04/Untitled-Diagram.png\n",
        "\" style=\"width: 400px;\"/>\n",
        "\n",
        "\n",
        "As categorias possíveis são:\n",
        "\n",
        "* ambiente\n",
        "* equilibrioesaude\n",
        "* sobretudo\n",
        "* educacao\n",
        "* ciencia\n",
        "* tec\n",
        "* turismo\n",
        "* empreendedorsocial\n",
        "* comida\n"
      ]
    },
    {
      "metadata": {
        "id": "RVL_VN8bQ4eg",
        "colab_type": "code",
        "colab": {}
      },
      "cell_type": "code",
      "source": [
        "import numpy as np\n",
        "import pandas as pd\n",
        "import seaborn as sns\n",
        "import warnings\n",
        "import matplotlib\n",
        "import matplotlib.pyplot as plt\n",
        "\n",
        "%matplotlib inline\n",
        "\n",
        "sns.set(style=\"ticks\")\n",
        "warnings.filterwarnings(\"ignore\")"
      ],
      "execution_count": 0,
      "outputs": []
    },
    {
      "metadata": {
        "id": "JHex4F-iQ4ek",
        "colab_type": "code",
        "colab": {}
      },
      "cell_type": "code",
      "source": [
        "# Bibliotecas do keras\n",
        "from keras.preprocessing import sequence\n",
        "from keras.layers import Dropout\n",
        "from keras.preprocessing.sequence import pad_sequences\n",
        "from keras.preprocessing.text import Tokenizer\n",
        "from keras.models import Sequential\n",
        "from keras.layers import Dense, LSTM\n",
        "from keras.layers.embeddings import Embedding\n",
        "from sklearn.model_selection import train_test_split"
      ],
      "execution_count": 0,
      "outputs": []
    },
    {
      "metadata": {
        "id": "GeoHR-bDRmG_",
        "colab_type": "text"
      },
      "cell_type": "markdown",
      "source": [
        "## Configuração do Ambiente Colab\n",
        "\n",
        "Instalação de dependencias, download do dataset.."
      ]
    },
    {
      "metadata": {
        "id": "qyX_jEVTRyn2",
        "colab_type": "code",
        "colab": {}
      },
      "cell_type": "code",
      "source": [
        "!wget https://storage.googleapis.com/ms_geral/fasam-dl-nlp.zip\n",
        "!unzip fasam-dl-nlp.zip"
      ],
      "execution_count": 0,
      "outputs": []
    },
    {
      "metadata": {
        "id": "GyOPogzMQ4en",
        "colab_type": "text"
      },
      "cell_type": "markdown",
      "source": [
        "## Leitura do dataset de treinamento"
      ]
    },
    {
      "metadata": {
        "id": "MlXrz467Q4eo",
        "colab_type": "code",
        "colab": {
          "base_uri": "https://localhost:8080/",
          "height": 306
        },
        "outputId": "1b14d628-03fa-4e0f-b95b-d4642e30ec7d"
      },
      "cell_type": "code",
      "source": [
        "# Leitura do Dataset\n",
        "df = pd.read_csv('train.csv')\n",
        "print(df.shape)\n",
        "df.head()\n"
      ],
      "execution_count": 175,
      "outputs": [
        {
          "output_type": "stream",
          "text": [
            "(9716, 5)\n"
          ],
          "name": "stdout"
        },
        {
          "output_type": "execute_result",
          "data": {
            "text/html": [
              "<div>\n",
              "<style scoped>\n",
              "    .dataframe tbody tr th:only-of-type {\n",
              "        vertical-align: middle;\n",
              "    }\n",
              "\n",
              "    .dataframe tbody tr th {\n",
              "        vertical-align: top;\n",
              "    }\n",
              "\n",
              "    .dataframe thead th {\n",
              "        text-align: right;\n",
              "    }\n",
              "</style>\n",
              "<table border=\"1\" class=\"dataframe\">\n",
              "  <thead>\n",
              "    <tr style=\"text-align: right;\">\n",
              "      <th></th>\n",
              "      <th>Unnamed: 0</th>\n",
              "      <th>title</th>\n",
              "      <th>text</th>\n",
              "      <th>link</th>\n",
              "      <th>category</th>\n",
              "    </tr>\n",
              "  </thead>\n",
              "  <tbody>\n",
              "    <tr>\n",
              "      <th>0</th>\n",
              "      <td>0</td>\n",
              "      <td>Plano de Energia Limpa de Obama será revogado,...</td>\n",
              "      <td>O presidente dos Estados Unidos, Donald Trump,...</td>\n",
              "      <td>http://www1.folha.uol.com.br/ambiente/2017/10/...</td>\n",
              "      <td>ambiente</td>\n",
              "    </tr>\n",
              "    <tr>\n",
              "      <th>1</th>\n",
              "      <td>1</td>\n",
              "      <td>Por que é mais difícil para as mulheres lutar ...</td>\n",
              "      <td>Gabriela* percebeu que precisava de ajuda quan...</td>\n",
              "      <td>http://www1.folha.uol.com.br/equilibrioesaude/...</td>\n",
              "      <td>equilibrioesaude</td>\n",
              "    </tr>\n",
              "    <tr>\n",
              "      <th>2</th>\n",
              "      <td>2</td>\n",
              "      <td>\\n\\t\\tDa escola ao 1º emprego: como buscar um ...</td>\n",
              "      <td>DA BBC BRASIL  O trimestre de maio a julho des...</td>\n",
              "      <td>http://www1.folha.uol.com.br/sobretudo/carreir...</td>\n",
              "      <td>sobretudo</td>\n",
              "    </tr>\n",
              "    <tr>\n",
              "      <th>3</th>\n",
              "      <td>3</td>\n",
              "      <td>Compare as mensalidades de 1.104 escolas priva...</td>\n",
              "      <td>Confira abaixo as mensalidades de 1.104 escola...</td>\n",
              "      <td>http://www1.folha.uol.com.br/educacao/2017/10/...</td>\n",
              "      <td>educacao</td>\n",
              "    </tr>\n",
              "    <tr>\n",
              "      <th>4</th>\n",
              "      <td>4</td>\n",
              "      <td>Programa espacial soviético teve ideal social ...</td>\n",
              "      <td>É inegável que a Revolução Russa, ainda que te...</td>\n",
              "      <td>http://www1.folha.uol.com.br/ciencia/2017/10/1...</td>\n",
              "      <td>ciencia</td>\n",
              "    </tr>\n",
              "  </tbody>\n",
              "</table>\n",
              "</div>"
            ],
            "text/plain": [
              "   Unnamed: 0                                              title  \\\n",
              "0           0  Plano de Energia Limpa de Obama será revogado,...   \n",
              "1           1  Por que é mais difícil para as mulheres lutar ...   \n",
              "2           2  \\n\\t\\tDa escola ao 1º emprego: como buscar um ...   \n",
              "3           3  Compare as mensalidades de 1.104 escolas priva...   \n",
              "4           4  Programa espacial soviético teve ideal social ...   \n",
              "\n",
              "                                                text  \\\n",
              "0  O presidente dos Estados Unidos, Donald Trump,...   \n",
              "1  Gabriela* percebeu que precisava de ajuda quan...   \n",
              "2  DA BBC BRASIL  O trimestre de maio a julho des...   \n",
              "3  Confira abaixo as mensalidades de 1.104 escola...   \n",
              "4  É inegável que a Revolução Russa, ainda que te...   \n",
              "\n",
              "                                                link          category  \n",
              "0  http://www1.folha.uol.com.br/ambiente/2017/10/...          ambiente  \n",
              "1  http://www1.folha.uol.com.br/equilibrioesaude/...  equilibrioesaude  \n",
              "2  http://www1.folha.uol.com.br/sobretudo/carreir...         sobretudo  \n",
              "3  http://www1.folha.uol.com.br/educacao/2017/10/...          educacao  \n",
              "4  http://www1.folha.uol.com.br/ciencia/2017/10/1...           ciencia  "
            ]
          },
          "metadata": {
            "tags": []
          },
          "execution_count": 175
        }
      ]
    },
    {
      "metadata": {
        "id": "tA7JUuLjQ4es",
        "colab_type": "text"
      },
      "cell_type": "markdown",
      "source": [
        "Todos os artigos contêm o **título, descrição e link** da matéria original. Por último a categoria que pertence esse artigo."
      ]
    },
    {
      "metadata": {
        "id": "AbXQ-lrZQ4et",
        "colab_type": "code",
        "colab": {}
      },
      "cell_type": "code",
      "source": [
        "## Definição de alguns parâmetros dos modelos e tokenização\n",
        "\n",
        "# Tamanho da sequencia\n",
        "seq_size     = 180\n",
        "\n",
        "# Máximo de tokens \n",
        "max_tokens   = 3000\n",
        "\n",
        "# Tamanho do embedding\n",
        "embed_dim    = 256"
      ],
      "execution_count": 0,
      "outputs": []
    },
    {
      "metadata": {
        "id": "mLngyRwKQ4ev",
        "colab_type": "text"
      },
      "cell_type": "markdown",
      "source": [
        "Iremos utilizar o titulo para o nosso modelo baseline. O processo abaixo cria o **input** da nossa rede e prepara o **target**"
      ]
    },
    {
      "metadata": {
        "id": "RZ0VVQH6Q4ew",
        "colab_type": "code",
        "colab": {}
      },
      "cell_type": "code",
      "source": [
        "## Utilizaremos apenas o .title (input) e o .category (target) da nossa rede\n",
        "# Textos\n",
        "text         = df['text'].values\n",
        "tokenizer    = Tokenizer(num_words=max_tokens, split=' ')\n",
        "\n",
        "# Transforma o texto em números\n",
        "tokenizer.fit_on_texts(text)\n",
        "X = tokenizer.texts_to_sequences(text)  \n",
        "\n",
        "# Cria sequencias de tamanho fixo (input: X)\n",
        "X = pad_sequences(X, maxlen=seq_size)"
      ],
      "execution_count": 0,
      "outputs": []
    },
    {
      "metadata": {
        "id": "2_ngkdvcQ4ey",
        "colab_type": "code",
        "colab": {}
      },
      "cell_type": "code",
      "source": [
        "# Categoriza o target \"category\" -> [0,..., 1] (output: y)\n",
        "Y_classes = pd.get_dummies(df['category']).columns\n",
        "Y         = pd.get_dummies(df['category']).values"
      ],
      "execution_count": 0,
      "outputs": []
    },
    {
      "metadata": {
        "id": "dkBKpkEVQ4ez",
        "colab_type": "code",
        "colab": {
          "base_uri": "https://localhost:8080/",
          "height": 34
        },
        "outputId": "72249a64-9b19-42de-f175-4bff2344b25c"
      },
      "cell_type": "code",
      "source": [
        "(X.shape, Y.shape)"
      ],
      "execution_count": 179,
      "outputs": [
        {
          "output_type": "execute_result",
          "data": {
            "text/plain": [
              "((9716, 180), (9716, 9))"
            ]
          },
          "metadata": {
            "tags": []
          },
          "execution_count": 179
        }
      ]
    },
    {
      "metadata": {
        "id": "RBcyTcQ7Q4e3",
        "colab_type": "text"
      },
      "cell_type": "markdown",
      "source": [
        "## Criação do Modelo\n",
        "\n",
        "Iremos utilizar uma RNN em um modelo simples."
      ]
    },
    {
      "metadata": {
        "id": "SHNLyLRBQ4e4",
        "colab_type": "code",
        "colab": {
          "base_uri": "https://localhost:8080/",
          "height": 306
        },
        "outputId": "a03c9a94-9d02-47c1-82a5-6572795cf91d"
      },
      "cell_type": "code",
      "source": [
        "def base_model():\n",
        "    model = Sequential()\n",
        "    \n",
        "    # Embedding Layer\n",
        "    model.add(Embedding(max_tokens, embed_dim, \n",
        "                        input_length = seq_size))\n",
        "    \n",
        "    model.add(Dropout(0.5))\n",
        "    \n",
        "    # RNN Layer\n",
        "    model.add(LSTM(seq_size))\n",
        "    \n",
        "    model.add(Dropout(0.6))\n",
        "    \n",
        "    # Dense Layer\n",
        "    model.add(Dense(len(Y_classes), activation='softmax'))\n",
        "    \n",
        "    model.compile(loss = 'categorical_crossentropy', \n",
        "                  optimizer='adam',\n",
        "                  metrics = ['accuracy'])\n",
        "    \n",
        "    model.summary()\n",
        "    \n",
        "    return model\n",
        "\n",
        "base_model = base_model()"
      ],
      "execution_count": 190,
      "outputs": [
        {
          "output_type": "stream",
          "text": [
            "_________________________________________________________________\n",
            "Layer (type)                 Output Shape              Param #   \n",
            "=================================================================\n",
            "embedding_14 (Embedding)     (None, 180, 256)          768000    \n",
            "_________________________________________________________________\n",
            "dropout_26 (Dropout)         (None, 180, 256)          0         \n",
            "_________________________________________________________________\n",
            "lstm_14 (LSTM)               (None, 180)               314640    \n",
            "_________________________________________________________________\n",
            "dropout_27 (Dropout)         (None, 180)               0         \n",
            "_________________________________________________________________\n",
            "dense_14 (Dense)             (None, 9)                 1629      \n",
            "=================================================================\n",
            "Total params: 1,084,269\n",
            "Trainable params: 1,084,269\n",
            "Non-trainable params: 0\n",
            "_________________________________________________________________\n"
          ],
          "name": "stdout"
        }
      ]
    },
    {
      "metadata": {
        "id": "fdTOijWDQ4e7",
        "colab_type": "code",
        "colab": {
          "base_uri": "https://localhost:8080/",
          "height": 1734
        },
        "outputId": "7ed180b0-ccc5-430f-925e-e1f1b2c07818"
      },
      "cell_type": "code",
      "source": [
        "# Separa o dataset em dados de treinamento/teste\n",
        "X_train, X_valid, Y_train, Y_valid = train_test_split(X,Y, \n",
        "                                                      test_size = 0.15, \n",
        "                                                      random_state = 42)\n",
        "\n",
        "# Treina o modelo\n",
        "hist = base_model.fit(X_train, Y_train, \n",
        "              validation_data =(X_valid, Y_valid),\n",
        "              batch_size=512, nb_epoch = 50,  verbose = 1)"
      ],
      "execution_count": 193,
      "outputs": [
        {
          "output_type": "stream",
          "text": [
            "Train on 8258 samples, validate on 1458 samples\n",
            "Epoch 1/50\n",
            "8258/8258 [==============================] - 99s 12ms/step - loss: 2.0757 - acc: 0.2099 - val_loss: 1.9408 - val_acc: 0.3292\n",
            "Epoch 2/50\n",
            "8258/8258 [==============================] - 99s 12ms/step - loss: 2.0647 - acc: 0.3302 - val_loss: 2.0461 - val_acc: 0.3594\n",
            "Epoch 3/50\n",
            "8258/8258 [==============================] - 99s 12ms/step - loss: 1.9556 - acc: 0.3823 - val_loss: 1.8291 - val_acc: 0.4259\n",
            "Epoch 4/50\n",
            "8258/8258 [==============================] - 98s 12ms/step - loss: 1.6436 - acc: 0.4639 - val_loss: 1.4401 - val_acc: 0.5158\n",
            "Epoch 5/50\n",
            "8258/8258 [==============================] - 97s 12ms/step - loss: 1.2340 - acc: 0.5891 - val_loss: 1.1687 - val_acc: 0.6125\n",
            "Epoch 6/50\n",
            "8258/8258 [==============================] - 97s 12ms/step - loss: 1.0591 - acc: 0.6534 - val_loss: 1.2515 - val_acc: 0.5741\n",
            "Epoch 7/50\n",
            "8258/8258 [==============================] - 98s 12ms/step - loss: 0.9964 - acc: 0.6676 - val_loss: 0.9902 - val_acc: 0.6742\n",
            "Epoch 8/50\n",
            "8258/8258 [==============================] - 97s 12ms/step - loss: 0.8033 - acc: 0.7235 - val_loss: 0.9027 - val_acc: 0.7003\n",
            "Epoch 9/50\n",
            "8258/8258 [==============================] - 97s 12ms/step - loss: 0.6980 - acc: 0.7627 - val_loss: 0.9740 - val_acc: 0.7010\n",
            "Epoch 10/50\n",
            "8258/8258 [==============================] - 98s 12ms/step - loss: 0.6421 - acc: 0.7829 - val_loss: 0.7807 - val_acc: 0.7565\n",
            "Epoch 11/50\n",
            "8258/8258 [==============================] - 97s 12ms/step - loss: 0.5498 - acc: 0.8227 - val_loss: 0.7521 - val_acc: 0.7723\n",
            "Epoch 12/50\n",
            "8258/8258 [==============================] - 98s 12ms/step - loss: 0.4766 - acc: 0.8452 - val_loss: 0.7922 - val_acc: 0.7455\n",
            "Epoch 13/50\n",
            "8258/8258 [==============================] - 99s 12ms/step - loss: 0.4495 - acc: 0.8561 - val_loss: 0.8499 - val_acc: 0.7346\n",
            "Epoch 14/50\n",
            "8258/8258 [==============================] - 99s 12ms/step - loss: 0.4499 - acc: 0.8511 - val_loss: 0.7448 - val_acc: 0.7716\n",
            "Epoch 15/50\n",
            "8258/8258 [==============================] - 99s 12ms/step - loss: 0.3831 - acc: 0.8755 - val_loss: 0.7427 - val_acc: 0.7654\n",
            "Epoch 16/50\n",
            "8258/8258 [==============================] - 101s 12ms/step - loss: 0.3230 - acc: 0.8982 - val_loss: 0.7574 - val_acc: 0.7757\n",
            "Epoch 17/50\n",
            "8258/8258 [==============================] - 98s 12ms/step - loss: 0.2999 - acc: 0.9064 - val_loss: 0.7404 - val_acc: 0.7867\n",
            "Epoch 18/50\n",
            "8258/8258 [==============================] - 99s 12ms/step - loss: 0.2786 - acc: 0.9135 - val_loss: 0.7495 - val_acc: 0.7901\n",
            "Epoch 19/50\n",
            "8258/8258 [==============================] - 99s 12ms/step - loss: 0.2587 - acc: 0.9223 - val_loss: 0.7170 - val_acc: 0.8100\n",
            "Epoch 20/50\n",
            "8258/8258 [==============================] - 97s 12ms/step - loss: 0.2188 - acc: 0.9342 - val_loss: 0.7286 - val_acc: 0.8018\n",
            "Epoch 21/50\n",
            "8258/8258 [==============================] - 97s 12ms/step - loss: 0.1968 - acc: 0.9407 - val_loss: 0.7244 - val_acc: 0.8086\n",
            "Epoch 22/50\n",
            "8258/8258 [==============================] - 98s 12ms/step - loss: 0.1983 - acc: 0.9407 - val_loss: 0.7201 - val_acc: 0.8052\n",
            "Epoch 23/50\n",
            "8258/8258 [==============================] - 97s 12ms/step - loss: 0.1685 - acc: 0.9512 - val_loss: 0.7577 - val_acc: 0.8059\n",
            "Epoch 24/50\n",
            "8258/8258 [==============================] - 98s 12ms/step - loss: 0.1400 - acc: 0.9644 - val_loss: 0.8030 - val_acc: 0.8038\n",
            "Epoch 25/50\n",
            "8258/8258 [==============================] - 98s 12ms/step - loss: 0.1332 - acc: 0.9608 - val_loss: 0.7986 - val_acc: 0.7894\n",
            "Epoch 26/50\n",
            "8258/8258 [==============================] - 98s 12ms/step - loss: 0.1394 - acc: 0.9603 - val_loss: 0.7860 - val_acc: 0.8038\n",
            "Epoch 27/50\n",
            "8258/8258 [==============================] - 98s 12ms/step - loss: 0.1517 - acc: 0.9589 - val_loss: 0.8873 - val_acc: 0.7853\n",
            "Epoch 28/50\n",
            "8258/8258 [==============================] - 98s 12ms/step - loss: 0.1470 - acc: 0.9591 - val_loss: 1.4306 - val_acc: 0.7414\n",
            "Epoch 29/50\n",
            "8258/8258 [==============================] - 99s 12ms/step - loss: 0.3287 - acc: 0.9080 - val_loss: 0.8518 - val_acc: 0.7791\n",
            "Epoch 30/50\n",
            "8258/8258 [==============================] - 99s 12ms/step - loss: 0.1631 - acc: 0.9566 - val_loss: 0.8545 - val_acc: 0.8066\n",
            "Epoch 31/50\n",
            "8258/8258 [==============================] - 98s 12ms/step - loss: 0.1188 - acc: 0.9678 - val_loss: 0.7996 - val_acc: 0.8045\n",
            "Epoch 32/50\n",
            "8258/8258 [==============================] - 98s 12ms/step - loss: 0.0991 - acc: 0.9730 - val_loss: 0.8363 - val_acc: 0.8114\n",
            "Epoch 33/50\n",
            "8258/8258 [==============================] - 97s 12ms/step - loss: 0.0802 - acc: 0.9797 - val_loss: 0.8322 - val_acc: 0.8176\n",
            "Epoch 34/50\n",
            "8258/8258 [==============================] - 97s 12ms/step - loss: 0.0633 - acc: 0.9864 - val_loss: 0.9345 - val_acc: 0.8032\n",
            "Epoch 35/50\n",
            "8258/8258 [==============================] - 98s 12ms/step - loss: 0.1072 - acc: 0.9702 - val_loss: 0.8950 - val_acc: 0.7970\n",
            "Epoch 36/50\n",
            "8258/8258 [==============================] - 98s 12ms/step - loss: 0.0876 - acc: 0.9752 - val_loss: 0.8461 - val_acc: 0.8128\n",
            "Epoch 37/50\n",
            "8258/8258 [==============================] - 98s 12ms/step - loss: 0.0575 - acc: 0.9870 - val_loss: 0.9183 - val_acc: 0.8114\n",
            "Epoch 38/50\n",
            "8258/8258 [==============================] - 99s 12ms/step - loss: 0.0652 - acc: 0.9823 - val_loss: 0.8924 - val_acc: 0.8038\n",
            "Epoch 39/50\n",
            "8258/8258 [==============================] - 98s 12ms/step - loss: 0.0538 - acc: 0.9861 - val_loss: 0.9031 - val_acc: 0.8114\n",
            "Epoch 40/50\n",
            "8258/8258 [==============================] - 98s 12ms/step - loss: 0.0459 - acc: 0.9885 - val_loss: 0.9185 - val_acc: 0.8134\n",
            "Epoch 41/50\n",
            "8258/8258 [==============================] - 100s 12ms/step - loss: 0.0399 - acc: 0.9910 - val_loss: 0.9072 - val_acc: 0.8086\n",
            "Epoch 42/50\n",
            "8258/8258 [==============================] - 98s 12ms/step - loss: 0.0615 - acc: 0.9840 - val_loss: 0.9249 - val_acc: 0.8004\n",
            "Epoch 43/50\n",
            "8258/8258 [==============================] - 98s 12ms/step - loss: 0.0420 - acc: 0.9890 - val_loss: 0.9546 - val_acc: 0.8073\n",
            "Epoch 44/50\n",
            "8258/8258 [==============================] - 99s 12ms/step - loss: 0.0877 - acc: 0.9744 - val_loss: 0.9873 - val_acc: 0.7949\n",
            "Epoch 45/50\n",
            "8258/8258 [==============================] - 99s 12ms/step - loss: 0.0658 - acc: 0.9828 - val_loss: 0.9681 - val_acc: 0.7922\n",
            "Epoch 46/50\n",
            "8258/8258 [==============================] - 99s 12ms/step - loss: 0.0765 - acc: 0.9793 - val_loss: 0.9767 - val_acc: 0.7922\n",
            "Epoch 47/50\n",
            "8258/8258 [==============================] - 98s 12ms/step - loss: 0.0380 - acc: 0.9907 - val_loss: 0.9109 - val_acc: 0.8086\n",
            "Epoch 48/50\n",
            "8258/8258 [==============================] - 99s 12ms/step - loss: 0.0768 - acc: 0.9822 - val_loss: 0.9425 - val_acc: 0.8018\n",
            "Epoch 49/50\n",
            "8258/8258 [==============================] - 98s 12ms/step - loss: 0.0466 - acc: 0.9883 - val_loss: 0.9941 - val_acc: 0.8066\n",
            "Epoch 50/50\n",
            "8258/8258 [==============================] - 98s 12ms/step - loss: 0.0416 - acc: 0.9903 - val_loss: 0.9269 - val_acc: 0.8114\n"
          ],
          "name": "stdout"
        }
      ]
    },
    {
      "metadata": {
        "id": "ux8rlXyfQ4e-",
        "colab_type": "text"
      },
      "cell_type": "markdown",
      "source": [
        "## Avaliação e Criação do arquivo de submission.csv"
      ]
    },
    {
      "metadata": {
        "id": "LLSfTL3oQ4e-",
        "colab_type": "code",
        "colab": {
          "base_uri": "https://localhost:8080/",
          "height": 51
        },
        "outputId": "837a8679-1463-4b47-ef38-00a55938f41d"
      },
      "cell_type": "code",
      "source": [
        "# Avaliação do modelo para o dataset de test\n",
        "\n",
        "val_loss, val_acc = base_model.evaluate(X_valid, Y_valid)\n",
        "\n",
        "print('A acurácia do modelo está de: '+str(val_acc*100)+'%')"
      ],
      "execution_count": 194,
      "outputs": [
        {
          "output_type": "stream",
          "text": [
            "1458/1458 [==============================] - 6s 4ms/step\n",
            "A acurácia do modelo está de: 81.1385459288321%\n"
          ],
          "name": "stdout"
        }
      ]
    },
    {
      "metadata": {
        "id": "1RHPzAfVQ4fC",
        "colab_type": "text"
      },
      "cell_type": "markdown",
      "source": [
        "### Criando arquivo de submission para o Kaggle"
      ]
    },
    {
      "metadata": {
        "id": "-ZfS38bgQ4fD",
        "colab_type": "code",
        "colab": {
          "base_uri": "https://localhost:8080/",
          "height": 221
        },
        "outputId": "d8de2f2b-8be8-4010-f84b-9802bb4a3716"
      },
      "cell_type": "code",
      "source": [
        "# Leitura do Dataset de validação dos resultados\n",
        "df_valid = pd.read_csv('valid.csv')\n",
        "print(df_valid.shape)\n",
        "df_valid.head()"
      ],
      "execution_count": 195,
      "outputs": [
        {
          "output_type": "stream",
          "text": [
            "(2429, 3)\n"
          ],
          "name": "stdout"
        },
        {
          "output_type": "execute_result",
          "data": {
            "text/html": [
              "<div>\n",
              "<style scoped>\n",
              "    .dataframe tbody tr th:only-of-type {\n",
              "        vertical-align: middle;\n",
              "    }\n",
              "\n",
              "    .dataframe tbody tr th {\n",
              "        vertical-align: top;\n",
              "    }\n",
              "\n",
              "    .dataframe thead th {\n",
              "        text-align: right;\n",
              "    }\n",
              "</style>\n",
              "<table border=\"1\" class=\"dataframe\">\n",
              "  <thead>\n",
              "    <tr style=\"text-align: right;\">\n",
              "      <th></th>\n",
              "      <th>Unnamed: 0</th>\n",
              "      <th>title</th>\n",
              "      <th>text</th>\n",
              "    </tr>\n",
              "  </thead>\n",
              "  <tbody>\n",
              "    <tr>\n",
              "      <th>0</th>\n",
              "      <td>0</td>\n",
              "      <td>Anticorpo artificial pode eliminar vírus HIV d...</td>\n",
              "      <td>Pesquisadores anunciaram no mês passado algo q...</td>\n",
              "    </tr>\n",
              "    <tr>\n",
              "      <th>1</th>\n",
              "      <td>1</td>\n",
              "      <td>Inscrições para o Enem 2015 começam nesta segu...</td>\n",
              "      <td>Estudantes interessados em participar do Enem ...</td>\n",
              "    </tr>\n",
              "    <tr>\n",
              "      <th>2</th>\n",
              "      <td>2</td>\n",
              "      <td>Saúde responde: Como diferenciar dengue, chiku...</td>\n",
              "      <td>Gostaria de saber como é possível diferenciar ...</td>\n",
              "    </tr>\n",
              "    <tr>\n",
              "      <th>3</th>\n",
              "      <td>3</td>\n",
              "      <td>Cervejarias artesanais e bares especializados ...</td>\n",
              "      <td>No porão de um prédio residencial ao norte de ...</td>\n",
              "    </tr>\n",
              "    <tr>\n",
              "      <th>4</th>\n",
              "      <td>4</td>\n",
              "      <td>Contra votação do Plano de Educação, grupo pro...</td>\n",
              "      <td>Um grupo de manifestantes protesta em frente à...</td>\n",
              "    </tr>\n",
              "  </tbody>\n",
              "</table>\n",
              "</div>"
            ],
            "text/plain": [
              "   Unnamed: 0                                              title  \\\n",
              "0           0  Anticorpo artificial pode eliminar vírus HIV d...   \n",
              "1           1  Inscrições para o Enem 2015 começam nesta segu...   \n",
              "2           2  Saúde responde: Como diferenciar dengue, chiku...   \n",
              "3           3  Cervejarias artesanais e bares especializados ...   \n",
              "4           4  Contra votação do Plano de Educação, grupo pro...   \n",
              "\n",
              "                                                text  \n",
              "0  Pesquisadores anunciaram no mês passado algo q...  \n",
              "1  Estudantes interessados em participar do Enem ...  \n",
              "2  Gostaria de saber como é possível diferenciar ...  \n",
              "3  No porão de um prédio residencial ao norte de ...  \n",
              "4  Um grupo de manifestantes protesta em frente à...  "
            ]
          },
          "metadata": {
            "tags": []
          },
          "execution_count": 195
        }
      ]
    },
    {
      "metadata": {
        "id": "syvOOvJgQ4fK",
        "colab_type": "text"
      },
      "cell_type": "markdown",
      "source": [
        "O dataset de validação, o que será utilizado para calcular o Ranking no Kaggle, contêm apenas as informações de Título e Texto do arquivo.  O modelo criado deve ser capaz de classificar em qual das categorias esse artigo pertence"
      ]
    },
    {
      "metadata": {
        "id": "EA-2mC_JQ4fL",
        "colab_type": "code",
        "colab": {}
      },
      "cell_type": "code",
      "source": [
        "def predict(text):\n",
        "    '''\n",
        "    Utiliza o modelo treinado para realizar a predição\n",
        "    '''\n",
        "    new_text = tokenizer.texts_to_sequences(text)\n",
        "    new_text = pad_sequences(new_text, maxlen=seq_size)\n",
        "    pred     = base_model.predict_classes(new_text)#[0]\n",
        "    return pred"
      ],
      "execution_count": 0,
      "outputs": []
    },
    {
      "metadata": {
        "id": "eyAgKVZsQ4fO",
        "colab_type": "code",
        "colab": {
          "base_uri": "https://localhost:8080/",
          "height": 34
        },
        "outputId": "e5ac1839-fc4f-4c42-9558-575fd79bc0b9"
      },
      "cell_type": "code",
      "source": [
        "# Como utilizamos o titulo no treinamento, iremos utilizar o titulo na predição também\n",
        "\n",
        "pred         = predict(df_valid.text)\n",
        "pred_classes = [Y_classes[c] for c in pred]\n",
        "pred_classes[:5]"
      ],
      "execution_count": 197,
      "outputs": [
        {
          "output_type": "execute_result",
          "data": {
            "text/plain": [
              "['ciencia', 'educacao', 'equilibrioesaude', 'comida', 'ciencia']"
            ]
          },
          "metadata": {
            "tags": []
          },
          "execution_count": 197
        }
      ]
    },
    {
      "metadata": {
        "id": "fvQYZhaMQ4fT",
        "colab_type": "code",
        "colab": {
          "base_uri": "https://localhost:8080/",
          "height": 204
        },
        "outputId": "abb10f25-692e-4e8c-d06c-a488e9bd73a8"
      },
      "cell_type": "code",
      "source": [
        "# Atualizando a categoria dos artigos no dataset de validação\n",
        "df_valid['category'] = pred_classes\n",
        "df_valid.head()"
      ],
      "execution_count": 198,
      "outputs": [
        {
          "output_type": "execute_result",
          "data": {
            "text/html": [
              "<div>\n",
              "<style scoped>\n",
              "    .dataframe tbody tr th:only-of-type {\n",
              "        vertical-align: middle;\n",
              "    }\n",
              "\n",
              "    .dataframe tbody tr th {\n",
              "        vertical-align: top;\n",
              "    }\n",
              "\n",
              "    .dataframe thead th {\n",
              "        text-align: right;\n",
              "    }\n",
              "</style>\n",
              "<table border=\"1\" class=\"dataframe\">\n",
              "  <thead>\n",
              "    <tr style=\"text-align: right;\">\n",
              "      <th></th>\n",
              "      <th>Unnamed: 0</th>\n",
              "      <th>title</th>\n",
              "      <th>text</th>\n",
              "      <th>category</th>\n",
              "    </tr>\n",
              "  </thead>\n",
              "  <tbody>\n",
              "    <tr>\n",
              "      <th>0</th>\n",
              "      <td>0</td>\n",
              "      <td>Anticorpo artificial pode eliminar vírus HIV d...</td>\n",
              "      <td>Pesquisadores anunciaram no mês passado algo q...</td>\n",
              "      <td>ciencia</td>\n",
              "    </tr>\n",
              "    <tr>\n",
              "      <th>1</th>\n",
              "      <td>1</td>\n",
              "      <td>Inscrições para o Enem 2015 começam nesta segu...</td>\n",
              "      <td>Estudantes interessados em participar do Enem ...</td>\n",
              "      <td>educacao</td>\n",
              "    </tr>\n",
              "    <tr>\n",
              "      <th>2</th>\n",
              "      <td>2</td>\n",
              "      <td>Saúde responde: Como diferenciar dengue, chiku...</td>\n",
              "      <td>Gostaria de saber como é possível diferenciar ...</td>\n",
              "      <td>equilibrioesaude</td>\n",
              "    </tr>\n",
              "    <tr>\n",
              "      <th>3</th>\n",
              "      <td>3</td>\n",
              "      <td>Cervejarias artesanais e bares especializados ...</td>\n",
              "      <td>No porão de um prédio residencial ao norte de ...</td>\n",
              "      <td>comida</td>\n",
              "    </tr>\n",
              "    <tr>\n",
              "      <th>4</th>\n",
              "      <td>4</td>\n",
              "      <td>Contra votação do Plano de Educação, grupo pro...</td>\n",
              "      <td>Um grupo de manifestantes protesta em frente à...</td>\n",
              "      <td>ciencia</td>\n",
              "    </tr>\n",
              "  </tbody>\n",
              "</table>\n",
              "</div>"
            ],
            "text/plain": [
              "   Unnamed: 0                                              title  \\\n",
              "0           0  Anticorpo artificial pode eliminar vírus HIV d...   \n",
              "1           1  Inscrições para o Enem 2015 começam nesta segu...   \n",
              "2           2  Saúde responde: Como diferenciar dengue, chiku...   \n",
              "3           3  Cervejarias artesanais e bares especializados ...   \n",
              "4           4  Contra votação do Plano de Educação, grupo pro...   \n",
              "\n",
              "                                                text          category  \n",
              "0  Pesquisadores anunciaram no mês passado algo q...           ciencia  \n",
              "1  Estudantes interessados em participar do Enem ...          educacao  \n",
              "2  Gostaria de saber como é possível diferenciar ...  equilibrioesaude  \n",
              "3  No porão de um prédio residencial ao norte de ...            comida  \n",
              "4  Um grupo de manifestantes protesta em frente à...           ciencia  "
            ]
          },
          "metadata": {
            "tags": []
          },
          "execution_count": 198
        }
      ]
    },
    {
      "metadata": {
        "id": "zc65RFDEQ4fX",
        "colab_type": "code",
        "colab": {}
      },
      "cell_type": "code",
      "source": [
        "def create_submission(df):\n",
        "    f = open('submission_valid.csv', 'w')\n",
        "    f.write('ID,category\\n')\n",
        "    for i, row in df.iterrows():\n",
        "        f.write('{},{}\\n'.format(i, row.category))\n",
        "    f.close()"
      ],
      "execution_count": 0,
      "outputs": []
    },
    {
      "metadata": {
        "id": "OMlHnrfQQ4fa",
        "colab_type": "code",
        "colab": {}
      },
      "cell_type": "code",
      "source": [
        "# Criando o arquivo submission_valid.csv contendo os dados para cálculo do raning no kaggle\n",
        "# Esse arquivo deve ser enviado para o kaggle\n",
        "create_submission(df_valid)"
      ],
      "execution_count": 0,
      "outputs": []
    },
    {
      "metadata": {
        "id": "n_zwf8HPSfPX",
        "colab_type": "code",
        "colab": {}
      },
      "cell_type": "code",
      "source": [
        "from google.colab import files\n",
        "\n",
        "# download submission_valid.csv\n",
        "files.download('submission_valid.csv') "
      ],
      "execution_count": 0,
      "outputs": []
    },
    {
      "metadata": {
        "id": "jZPerUFUSo94",
        "colab_type": "code",
        "colab": {}
      },
      "cell_type": "code",
      "source": [
        ""
      ],
      "execution_count": 0,
      "outputs": []
    }
  ]
}